{
 "cells": [
  {
   "cell_type": "markdown",
   "id": "34db6406",
   "metadata": {},
   "source": [
    "## Balanced Accuracy"
   ]
  },
  {
   "cell_type": "code",
   "execution_count": 1,
   "id": "1ad173d6",
   "metadata": {},
   "outputs": [],
   "source": [
    "import pandas as pd"
   ]
  },
  {
   "cell_type": "markdown",
   "id": "a9d8a3de",
   "metadata": {},
   "source": [
    "A short example how to read the output data of a specific configuration."
   ]
  },
  {
   "cell_type": "code",
   "execution_count": 2,
   "id": "55ace0e2",
   "metadata": {},
   "outputs": [
    {
     "data": {
      "text/html": [
       "<div>\n",
       "<style scoped>\n",
       "    .dataframe tbody tr th:only-of-type {\n",
       "        vertical-align: middle;\n",
       "    }\n",
       "\n",
       "    .dataframe tbody tr th {\n",
       "        vertical-align: top;\n",
       "    }\n",
       "\n",
       "    .dataframe thead th {\n",
       "        text-align: right;\n",
       "    }\n",
       "</style>\n",
       "<table border=\"1\" class=\"dataframe\">\n",
       "  <thead>\n",
       "    <tr style=\"text-align: right;\">\n",
       "      <th></th>\n",
       "      <th>MK</th>\n",
       "    </tr>\n",
       "    <tr>\n",
       "      <th>data</th>\n",
       "      <th></th>\n",
       "    </tr>\n",
       "  </thead>\n",
       "  <tbody>\n",
       "    <tr>\n",
       "      <th>ArrowHead</th>\n",
       "      <td>0.703333</td>\n",
       "    </tr>\n",
       "    <tr>\n",
       "      <th>CBF</th>\n",
       "      <td>0.660988</td>\n",
       "    </tr>\n",
       "    <tr>\n",
       "      <th>ChlorineConcentration</th>\n",
       "      <td>0.488123</td>\n",
       "    </tr>\n",
       "    <tr>\n",
       "      <th>ECG200</th>\n",
       "      <td>0.674812</td>\n",
       "    </tr>\n",
       "    <tr>\n",
       "      <th>ECGFiveDays</th>\n",
       "      <td>0.635845</td>\n",
       "    </tr>\n",
       "    <tr>\n",
       "      <th>GunPoint</th>\n",
       "      <td>0.720500</td>\n",
       "    </tr>\n",
       "    <tr>\n",
       "      <th>Ham</th>\n",
       "      <td>0.507670</td>\n",
       "    </tr>\n",
       "    <tr>\n",
       "      <th>Herring</th>\n",
       "      <td>0.521916</td>\n",
       "    </tr>\n",
       "    <tr>\n",
       "      <th>Lightning2</th>\n",
       "      <td>0.570091</td>\n",
       "    </tr>\n",
       "    <tr>\n",
       "      <th>MoteStrain</th>\n",
       "      <td>0.698202</td>\n",
       "    </tr>\n",
       "    <tr>\n",
       "      <th>Strawberry</th>\n",
       "      <td>0.694444</td>\n",
       "    </tr>\n",
       "    <tr>\n",
       "      <th>Symbols</th>\n",
       "      <td>0.716766</td>\n",
       "    </tr>\n",
       "    <tr>\n",
       "      <th>ToeSegmentation1</th>\n",
       "      <td>0.650000</td>\n",
       "    </tr>\n",
       "    <tr>\n",
       "      <th>ToeSegmentation2</th>\n",
       "      <td>0.670027</td>\n",
       "    </tr>\n",
       "    <tr>\n",
       "      <th>TwoLeadECG</th>\n",
       "      <td>0.676466</td>\n",
       "    </tr>\n",
       "    <tr>\n",
       "      <th>Wafer</th>\n",
       "      <td>0.652845</td>\n",
       "    </tr>\n",
       "    <tr>\n",
       "      <th>Wine</th>\n",
       "      <td>0.484211</td>\n",
       "    </tr>\n",
       "  </tbody>\n",
       "</table>\n",
       "</div>"
      ],
      "text/plain": [
       "                             MK\n",
       "data                           \n",
       "ArrowHead              0.703333\n",
       "CBF                    0.660988\n",
       "ChlorineConcentration  0.488123\n",
       "ECG200                 0.674812\n",
       "ECGFiveDays            0.635845\n",
       "GunPoint               0.720500\n",
       "Ham                    0.507670\n",
       "Herring                0.521916\n",
       "Lightning2             0.570091\n",
       "MoteStrain             0.698202\n",
       "Strawberry             0.694444\n",
       "Symbols                0.716766\n",
       "ToeSegmentation1       0.650000\n",
       "ToeSegmentation2       0.670027\n",
       "TwoLeadECG             0.676466\n",
       "Wafer                  0.652845\n",
       "Wine                   0.484211"
      ]
     },
     "execution_count": 2,
     "metadata": {},
     "output_type": "execute_result"
    }
   ],
   "source": [
    "config = (0.05,1.5,20,0.06)\n",
    "csv = pd.read_csv(\"../results/0.05/20221026.csv\", index_col=0).groupby([\"alpha\", \"sigma_mul\", \"t\", \"cutoff\", \"data\"])\n",
    "df = pd.DataFrame({\"MK\" : csv.mean()[\"BA\"].xs(config)})\n",
    "df"
   ]
  },
  {
   "cell_type": "code",
   "execution_count": null,
   "id": "f34610f8",
   "metadata": {},
   "outputs": [],
   "source": []
  }
 ],
 "metadata": {
  "kernelspec": {
   "display_name": "Python 3 (ipykernel)",
   "language": "python",
   "name": "python3"
  },
  "language_info": {
   "codemirror_mode": {
    "name": "ipython",
    "version": 3
   },
   "file_extension": ".py",
   "mimetype": "text/x-python",
   "name": "python",
   "nbconvert_exporter": "python",
   "pygments_lexer": "ipython3",
   "version": "3.7.12"
  }
 },
 "nbformat": 4,
 "nbformat_minor": 5
}
